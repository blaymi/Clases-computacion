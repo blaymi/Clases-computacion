{
 "cells": [
  {
   "cell_type": "code",
   "execution_count": 1,
   "metadata": {
    "executionInfo": {
     "elapsed": 6,
     "status": "ok",
     "timestamp": 1631381178004,
     "user": {
      "displayName": "Jorge Catumba Ruiz",
      "photoUrl": "https://lh3.googleusercontent.com/a-/AOh14Gia2oPxfLX-Vr79yKZ_umHcAvDxdxt2jxC-NCzVBQ=s64",
      "userId": "12469166536211480704"
     },
     "user_tz": 300
    },
    "id": "xxDg3Geo2tEJ"
   },
   "outputs": [],
   "source": [
    "class vector2:\n",
    "  def __init__(self, x, y):\n",
    "    self.x1 = x\n",
    "    self.x2 = y\n",
    "  \n",
    "  def __add__(self, other):\n",
    "    if isinstance(other, vector2):\n",
    "      return vector2(self.x1+other.x1, self.x2+other.x2)\n",
    "    else:\n",
    "      return 'Error: tipos incompatibles'\n",
    "  \n",
    "  def __mul__(self, escalar):\n",
    "    if isinstance(escalar, float):\n",
    "      return vector2(escalar*self.x1, escalar*self.x2)\n",
    "    else:\n",
    "      return 'Error: tipos incompatibles'"
   ]
  },
  {
   "cell_type": "code",
   "execution_count": 2,
   "metadata": {
    "executionInfo": {
     "elapsed": 200,
     "status": "ok",
     "timestamp": 1631381265640,
     "user": {
      "displayName": "Jorge Catumba Ruiz",
      "photoUrl": "https://lh3.googleusercontent.com/a-/AOh14Gia2oPxfLX-Vr79yKZ_umHcAvDxdxt2jxC-NCzVBQ=s64",
      "userId": "12469166536211480704"
     },
     "user_tz": 300
    },
    "id": "OF2bm0cQ5TFP"
   },
   "outputs": [],
   "source": [
    "v1 = vector2(2,4)\n",
    "v2 = vector2(2**(0.5), -1)"
   ]
  },
  {
   "cell_type": "code",
   "execution_count": 3,
   "metadata": {
    "colab": {
     "base_uri": "https://localhost:8080/"
    },
    "executionInfo": {
     "elapsed": 195,
     "status": "ok",
     "timestamp": 1631381280769,
     "user": {
      "displayName": "Jorge Catumba Ruiz",
      "photoUrl": "https://lh3.googleusercontent.com/a-/AOh14Gia2oPxfLX-Vr79yKZ_umHcAvDxdxt2jxC-NCzVBQ=s64",
      "userId": "12469166536211480704"
     },
     "user_tz": 300
    },
    "id": "lsMmEuuv5psN",
    "outputId": "7ef54b6c-a24f-4815-ab17-b9ce75703952"
   },
   "outputs": [
    {
     "name": "stdout",
     "output_type": "stream",
     "text": [
      "2 4\n"
     ]
    }
   ],
   "source": [
    "print(v1.x1, v1.x2)"
   ]
  },
  {
   "cell_type": "code",
   "execution_count": 4,
   "metadata": {
    "colab": {
     "base_uri": "https://localhost:8080/"
    },
    "executionInfo": {
     "elapsed": 192,
     "status": "ok",
     "timestamp": 1631381290382,
     "user": {
      "displayName": "Jorge Catumba Ruiz",
      "photoUrl": "https://lh3.googleusercontent.com/a-/AOh14Gia2oPxfLX-Vr79yKZ_umHcAvDxdxt2jxC-NCzVBQ=s64",
      "userId": "12469166536211480704"
     },
     "user_tz": 300
    },
    "id": "T_87n2iw5tYt",
    "outputId": "758437b3-f9f0-4f2d-e985-cf9428694abb"
   },
   "outputs": [
    {
     "name": "stdout",
     "output_type": "stream",
     "text": [
      "1.4142135623730951 -1\n"
     ]
    }
   ],
   "source": [
    "print(v2.x1, v2.x2)"
   ]
  },
  {
   "cell_type": "code",
   "execution_count": 5,
   "metadata": {
    "executionInfo": {
     "elapsed": 194,
     "status": "ok",
     "timestamp": 1631381308501,
     "user": {
      "displayName": "Jorge Catumba Ruiz",
      "photoUrl": "https://lh3.googleusercontent.com/a-/AOh14Gia2oPxfLX-Vr79yKZ_umHcAvDxdxt2jxC-NCzVBQ=s64",
      "userId": "12469166536211480704"
     },
     "user_tz": 300
    },
    "id": "lan0o7a05vu5"
   },
   "outputs": [],
   "source": [
    "v3 = v1 + v2"
   ]
  },
  {
   "cell_type": "code",
   "execution_count": 6,
   "metadata": {
    "colab": {
     "base_uri": "https://localhost:8080/"
    },
    "executionInfo": {
     "elapsed": 213,
     "status": "ok",
     "timestamp": 1631381316675,
     "user": {
      "displayName": "Jorge Catumba Ruiz",
      "photoUrl": "https://lh3.googleusercontent.com/a-/AOh14Gia2oPxfLX-Vr79yKZ_umHcAvDxdxt2jxC-NCzVBQ=s64",
      "userId": "12469166536211480704"
     },
     "user_tz": 300
    },
    "id": "wiUqnYz950KJ",
    "outputId": "01973f73-6b51-4f56-fac4-97379fe58ce4"
   },
   "outputs": [
    {
     "name": "stdout",
     "output_type": "stream",
     "text": [
      "3.414213562373095 3\n"
     ]
    }
   ],
   "source": [
    "print(v3.x1, v3.x2)"
   ]
  },
  {
   "cell_type": "code",
   "execution_count": 7,
   "metadata": {
    "executionInfo": {
     "elapsed": 219,
     "status": "ok",
     "timestamp": 1631381375488,
     "user": {
      "displayName": "Jorge Catumba Ruiz",
      "photoUrl": "https://lh3.googleusercontent.com/a-/AOh14Gia2oPxfLX-Vr79yKZ_umHcAvDxdxt2jxC-NCzVBQ=s64",
      "userId": "12469166536211480704"
     },
     "user_tz": 300
    },
    "id": "zItOLzvj5_IT"
   },
   "outputs": [],
   "source": [
    "import numpy as np"
   ]
  },
  {
   "cell_type": "code",
   "execution_count": 9,
   "metadata": {
    "executionInfo": {
     "elapsed": 264,
     "status": "ok",
     "timestamp": 1631381410012,
     "user": {
      "displayName": "Jorge Catumba Ruiz",
      "photoUrl": "https://lh3.googleusercontent.com/a-/AOh14Gia2oPxfLX-Vr79yKZ_umHcAvDxdxt2jxC-NCzVBQ=s64",
      "userId": "12469166536211480704"
     },
     "user_tz": 300
    },
    "id": "6RjhiQ9z52Jg"
   },
   "outputs": [],
   "source": [
    "v4 = v1*np.e"
   ]
  },
  {
   "cell_type": "code",
   "execution_count": 10,
   "metadata": {
    "colab": {
     "base_uri": "https://localhost:8080/"
    },
    "executionInfo": {
     "elapsed": 189,
     "status": "ok",
     "timestamp": 1631381429248,
     "user": {
      "displayName": "Jorge Catumba Ruiz",
      "photoUrl": "https://lh3.googleusercontent.com/a-/AOh14Gia2oPxfLX-Vr79yKZ_umHcAvDxdxt2jxC-NCzVBQ=s64",
      "userId": "12469166536211480704"
     },
     "user_tz": 300
    },
    "id": "gLs6BCRj6JZ9",
    "outputId": "c187d1b4-57ca-4003-ac4d-9bb78bac015f"
   },
   "outputs": [
    {
     "name": "stdout",
     "output_type": "stream",
     "text": [
      "5.43656365691809 10.87312731383618\n"
     ]
    }
   ],
   "source": [
    "print(v4.x1, v4.x2)"
   ]
  },
  {
   "cell_type": "code",
   "execution_count": null,
   "metadata": {
    "id": "UyrMo2IR6Rn_"
   },
   "outputs": [],
   "source": []
  }
 ],
 "metadata": {
  "colab": {
   "authorship_tag": "ABX9TyPIaaygUsOciaImE/lar6M4",
   "name": "2 - R2 en Python.ipynb",
   "provenance": []
  },
  "kernelspec": {
   "display_name": "Python 3 (ipykernel)",
   "language": "python",
   "name": "python3"
  },
  "language_info": {
   "codemirror_mode": {
    "name": "ipython",
    "version": 3
   },
   "file_extension": ".py",
   "mimetype": "text/x-python",
   "name": "python",
   "nbconvert_exporter": "python",
   "pygments_lexer": "ipython3",
   "version": "3.9.6"
  }
 },
 "nbformat": 4,
 "nbformat_minor": 1
}
