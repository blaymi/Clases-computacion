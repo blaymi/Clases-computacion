{
 "cells": [
  {
   "cell_type": "markdown",
   "metadata": {
    "id": "H2-q8mrK0BC0"
   },
   "source": [
    "## Buenas prácticas\n",
    "\n",
    "1. Código legible.\n",
    "2. Documentación.\n",
    "3. Modularidad.\n",
    "   * Usar distintos archivos según una lógica común.\n",
    "   * Funciones. Las funciones hacen una única tarea.\n",
    "4. Los nombres de variables, funciones, etc. deben ser autoexplicativos en la medida de lo posible.\n",
    "5. Control de versiones."
   ]
  },
  {
   "cell_type": "code",
   "execution_count": 2,
   "metadata": {
    "executionInfo": {
     "elapsed": 136,
     "status": "ok",
     "timestamp": 1633796723763,
     "user": {
      "displayName": "Jorge Catumba Ruiz",
      "photoUrl": "https://lh3.googleusercontent.com/a-/AOh14Gia2oPxfLX-Vr79yKZ_umHcAvDxdxt2jxC-NCzVBQ=s64",
      "userId": "12469166536211480704"
     },
     "user_tz": 300
    },
    "id": "kahO0TACzWZU"
   },
   "outputs": [],
   "source": [
    "def funcion(a,b,c,d,e,f,g):\n",
    "  pass"
   ]
  },
  {
   "cell_type": "code",
   "execution_count": 3,
   "metadata": {
    "executionInfo": {
     "elapsed": 147,
     "status": "ok",
     "timestamp": 1633796725477,
     "user": {
      "displayName": "Jorge Catumba Ruiz",
      "photoUrl": "https://lh3.googleusercontent.com/a-/AOh14Gia2oPxfLX-Vr79yKZ_umHcAvDxdxt2jxC-NCzVBQ=s64",
      "userId": "12469166536211480704"
     },
     "user_tz": 300
    },
    "id": "jtXMP7eC3v1F"
   },
   "outputs": [],
   "source": [
    "def euler(f, a, b, x0, ti, tf):\n",
    "  pass"
   ]
  },
  {
   "cell_type": "code",
   "execution_count": null,
   "metadata": {
    "id": "yzneysoO35lm"
   },
   "outputs": [],
   "source": []
  }
 ],
 "metadata": {
  "colab": {
   "authorship_tag": "ABX9TyPX8DPFatOLIh96/3ba/DZo",
   "collapsed_sections": [],
   "name": "05 Buenas prácticas.ipynb",
   "provenance": []
  },
  "kernelspec": {
   "display_name": "Python 3 (ipykernel)",
   "language": "python",
   "name": "python3"
  },
  "language_info": {
   "codemirror_mode": {
    "name": "ipython",
    "version": 3
   },
   "file_extension": ".py",
   "mimetype": "text/x-python",
   "name": "python",
   "nbconvert_exporter": "python",
   "pygments_lexer": "ipython3",
   "version": "3.9.6"
  }
 },
 "nbformat": 4,
 "nbformat_minor": 1
}
